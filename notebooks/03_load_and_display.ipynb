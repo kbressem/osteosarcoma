{
 "cells": [
  {
   "cell_type": "markdown",
   "id": "414a6726-f768-434b-9159-bd7a78a2f91a",
   "metadata": {},
   "source": [
    "# Check and display\n",
    "A final check for data integrity. \n",
    "All labels and images are loaded and compared in size. \n",
    "Some labels and images are also visualy inspected. "
   ]
  },
  {
   "cell_type": "code",
   "execution_count": 1,
   "id": "67e2c482-9842-4682-b8d2-586343e360d8",
   "metadata": {},
   "outputs": [],
   "source": [
    "%load_ext autoreload\n",
    "%autoreload 2"
   ]
  },
  {
   "cell_type": "code",
   "execution_count": 33,
   "id": "0fa7e875-c4e1-45de-92ff-c7de8a2d8747",
   "metadata": {},
   "outputs": [],
   "source": [
    "import pandas as pd\n",
    "import torch\n",
    "import nrrd\n",
    "from pathlib import Path\n",
    "from monai.transforms import LoadImage\n",
    "from trainlib.utils import load_config\n",
    "from trainlib.viewer import BasicViewer, ListViewer\n",
    "from trainlib.trainer import SegmentationTrainer\n",
    "from trainlib.preprocessing import resample_to_ras_and_spacing\n",
    "import SimpleITK as sitk\n",
    "from tqdm import tqdm"
   ]
  },
  {
   "cell_type": "code",
   "execution_count": 53,
   "id": "cdcc9044-78d9-4a94-8d53-6b723a9b4992",
   "metadata": {},
   "outputs": [
    {
     "name": "stderr",
     "output_type": "stream",
     "text": [
      "Setuptools is replacing distutils.\n"
     ]
    },
    {
     "name": "stdout",
     "output_type": "stream",
     "text": [
      "2022-11-03 14:48:27,104 - importing patch `AdaptAffineMatrixd` from `/home/bressekk/Documents/bone-tumor/patch/transforms.py`.\n",
      "2022-11-03 14:48:27,107 - importing patch `RaiseOnEmptyd` from `/home/bressekk/Documents/bone-tumor/patch/transforms.py`.\n",
      "2022-11-03 14:48:27,110 - importing patch `AdaptAffineMatrixd` from `/home/bressekk/Documents/bone-tumor/patch/transforms.py`.\n",
      "2022-11-03 14:48:27,111 - importing patch `RaiseOnEmptyd` from `/home/bressekk/Documents/bone-tumor/patch/transforms.py`.\n",
      "2022-11-03 14:48:27,247 - No pushover credentials file submitted, will not try to push trainings progress to pushover device. If you want to receive status updated via pushover, provide the path to a yaml file, containing the `app_token`, `user_key` and `proxies` (optional) in the config at `pushover_credentials`\n"
     ]
    }
   ],
   "source": [
    "config = load_config(\"../configs/binary.yaml\")\n",
    "trainer = SegmentationTrainer(config=config)"
   ]
  },
  {
   "cell_type": "code",
   "execution_count": 54,
   "id": "fdd33351-24e6-4028-bf2b-3bfd9015bfb1",
   "metadata": {},
   "outputs": [
    {
     "data": {
      "application/vnd.jupyter.widget-view+json": {
       "model_id": "84ad4718c6814ed38b43c4f37d9ffe40",
       "version_major": 2,
       "version_minor": 0
      },
      "text/plain": [
       "VBox(children=(HBox(children=(VBox(children=(Label(value=' ', layout=Layout(display='flex', justify_content='c…"
      ]
     },
     "metadata": {},
     "output_type": "display_data"
    }
   ],
   "source": [
    "trainer.data_loader.show_batch()"
   ]
  },
  {
   "cell_type": "markdown",
   "id": "1a92343e-9465-4b53-9fb3-7fd744aebc59",
   "metadata": {},
   "source": [
    "### Train/Valid/Test Split"
   ]
  },
  {
   "cell_type": "code",
   "execution_count": 55,
   "id": "ca8cfeed-979c-4c7f-b716-eff090210ae6",
   "metadata": {},
   "outputs": [],
   "source": [
    "import numpy as np\n",
    "\n",
    "data = pd.read_csv(config.data.train_csv)\n",
    "state = np.random.RandomState()\n",
    "state.seed(42)\n",
    "test = data.sample(frac=0.1, random_state=state)\n",
    "data = data.drop(test.index)\n",
    "valid = data.sample(frac=0.1, random_state=state)\n",
    "train = data.drop(valid.index)\n",
    "\n",
    "fn = config.data.train_csv.replace(\".csv\", \"\")\n",
    "test.to_csv(fn + \"_test.csv\", index=False)\n",
    "valid.to_csv(fn + \"_valid.csv\", index=False)\n",
    "train.to_csv(fn + \"_train.csv\", index=False)"
   ]
  }
 ],
 "metadata": {
  "kernelspec": {
   "display_name": "Python 3 (ipykernel)",
   "language": "python",
   "name": "python3"
  },
  "language_info": {
   "codemirror_mode": {
    "name": "ipython",
    "version": 3
   },
   "file_extension": ".py",
   "mimetype": "text/x-python",
   "name": "python",
   "nbconvert_exporter": "python",
   "pygments_lexer": "ipython3",
   "version": "3.9.12"
  },
  "vscode": {
   "interpreter": {
    "hash": "61d67c5a887374fe4528bc1bcc3d29c8726e2993ddef9e70ac79ae4bf310a5c5"
   }
  }
 },
 "nbformat": 4,
 "nbformat_minor": 5
}
