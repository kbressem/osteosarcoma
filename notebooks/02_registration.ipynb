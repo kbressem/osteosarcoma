{
 "cells": [
  {
   "cell_type": "markdown",
   "id": "0ce61f34-36d3-4326-b77e-aaafea815f49",
   "metadata": {},
   "source": [
    "# Image Registration with SimpleITK and SimpleElastix\n",
    "\n",
    "The segmentations were only done in one sequence of the examination, but should be transfered to all other sequences. \n",
    "However, there was movement between sequences, so segmentations do not really fit. \n",
    "Image registration with SimpleElastix can solve this issue"
   ]
  },
  {
   "cell_type": "code",
   "execution_count": 30,
   "id": "27b9fd1a-f734-4d1c-be08-57f3b40bf007",
   "metadata": {},
   "outputs": [],
   "source": [
    "from pathlib import Path\n",
    "import SimpleITK as sitk\n",
    "import pandas as pd\n",
    "import nrrd\n",
    "import numpy as np\n",
    "from tqdm import tqdm\n",
    "import shutil\n",
    "\n",
    "from trainlib.utils import load_config\n",
    "from trainlib.viewer import BasicViewer, ListViewer"
   ]
  },
  {
   "cell_type": "code",
   "execution_count": 31,
   "id": "8dfdbca9-ee77-433e-a7a3-fadd816d2d36",
   "metadata": {},
   "outputs": [],
   "source": [
    "DATA_DIR = Path(\"/workspace/data/original\").absolute()\n",
    "df = pd.read_csv(\"/workspace/data/original/osteosarcoma.csv\")"
   ]
  },
  {
   "cell_type": "markdown",
   "id": "b756f978-76be-4aa0-b74a-61576a79c42a",
   "metadata": {},
   "source": [
    "### Identify sequence labels have been created with\n",
    "The spatial dimensions between the label and the sequence it has been created with should be the closest. \n",
    "First check, if labels are unique for each exam, or if multiple labels exist."
   ]
  },
  {
   "cell_type": "markdown",
   "id": "fa487901-8d0e-42a9-8543-c092679eacad",
   "metadata": {},
   "source": [
    "Read out shape of labels and images and store them in the df. "
   ]
  },
  {
   "cell_type": "code",
   "execution_count": 32,
   "id": "cea4f85e-bb7d-4989-8667-45c2002161f7",
   "metadata": {},
   "outputs": [],
   "source": [
    "def get_shape(fn):\n",
    "    fn = str(fn)  # sitk does not support pathlib\n",
    "    shape = nrrd.read_header(fn)[\"sizes\"]\n",
    "    return tuple(shape[-3:])\n",
    "\n",
    "\n",
    "def get_distance(a, b):\n",
    "    return sum([abs(_a - _b) for _a, _b in zip(a, b)])"
   ]
  },
  {
   "cell_type": "code",
   "execution_count": 33,
   "id": "cc78c1fe-40da-4084-aef6-8fcb5e4bb4f5",
   "metadata": {},
   "outputs": [],
   "source": [
    "df[\"image_shapes\"] = [get_shape(DATA_DIR / fn) for fn in df.image]\n",
    "df[\"label_shapes\"] = [get_shape(DATA_DIR / fn) for fn in df.label]\n",
    "df[\"distance\"] = [get_distance(a, b) for a, b in zip(df.image_shapes, df.label_shapes)]"
   ]
  },
  {
   "cell_type": "code",
   "execution_count": 35,
   "id": "7932819b-a99b-47e9-a09f-a7a4b6675d2e",
   "metadata": {},
   "outputs": [],
   "source": [
    "%%capture\n",
    "patients = df.patient_id.unique()\n",
    "exam_types = df.exam_type.unique()\n",
    "sequences_list = []\n",
    "for pat_id in patients:\n",
    "    patient = df[df.patient_id == pat_id]\n",
    "    for exam in exam_types:\n",
    "        sequences = patient[patient.exam_type == exam]\n",
    "        if len(sequences) == 0:\n",
    "            continue\n",
    "        assert len(sequences.label.unique()) == 1, sequences.label.unique()\n",
    "\n",
    "        idx = np.where(sequences.distance == sequences.distance.min())[0][0]\n",
    "        fixed_or_moving = [\"moving\"] * len(sequences)\n",
    "        fixed_or_moving[int(idx)] = \"fixed\"\n",
    "        sequences[\"fixed_or_moving\"] = fixed_or_moving\n",
    "        sequences_list += [sequences]"
   ]
  },
  {
   "cell_type": "code",
   "execution_count": 36,
   "id": "799aa98d-4b97-4bfb-a899-3e7e03032b5e",
   "metadata": {},
   "outputs": [],
   "source": [
    "df = pd.concat(sequences_list)\n",
    "df.to_csv(\"../data/original/osteosarcoma.csv\", index=False)"
   ]
  },
  {
   "cell_type": "markdown",
   "id": "a40eb851-119a-4358-ba1d-3b2861452f63",
   "metadata": {},
   "source": [
    "### Example Registration \n",
    "\n",
    "Registration is performed in two steps: \n",
    "\n",
    "1. Resampling based solely on the DICOM header\n",
    "2. Rigid transformation of the images\n",
    "\n",
    "Idealy, the patient did not move between examinations\n",
    "So resampling simply based on the header information should give the best results.\n",
    "However, some patients were uneasy during the examinations and did move. \n",
    "Therefore, a rigid registration is appended to the initial resampling. \n",
    "Affine resampling is not performed, as it distorts the images to much, so that important image information is lost, and \n",
    "I believe this will affect performance of the deep learning algorithms. \n"
   ]
  },
  {
   "cell_type": "code",
   "execution_count": null,
   "id": "5feb7ea9-33da-44ce-8fbe-510fab13caec",
   "metadata": {},
   "outputs": [],
   "source": [
    "sample = df[(df.patient_id == 50451996)]"
   ]
  },
  {
   "cell_type": "code",
   "execution_count": null,
   "id": "74710247-9184-4838-85ec-d89ff184cbc2",
   "metadata": {},
   "outputs": [],
   "source": [
    "sample = sample[(sample.exam_type == \"Baseline\")]\n",
    "fixed = sample.image[sample.fixed_or_moving == \"fixed\"]\n",
    "moving = sample.image[sample.fixed_or_moving == \"moving\"]"
   ]
  },
  {
   "cell_type": "code",
   "execution_count": 39,
   "id": "1f3c948d-f837-4c2c-adf8-60ad261e2a68",
   "metadata": {},
   "outputs": [
    {
     "name": "stderr",
     "output_type": "stream",
     "text": [
      "100%|█████████████████████████████████████████████| 4/4 [00:14<00:00,  3.71s/it]\n"
     ]
    }
   ],
   "source": [
    "results = []\n",
    "fixed_image = sitk.ReadImage(str(DATA_DIR / fixed.item()))\n",
    "parameterMap = sitk.GetDefaultParameterMap(\"rigid\")\n",
    "\n",
    "for m in tqdm(moving):\n",
    "    moving_image = sitk.ReadImage(str(DATA_DIR / m))\n",
    "    moving_image_resampled = sitk.Resample(\n",
    "        moving_image, fixed_image\n",
    "    )  # first simple Resampling with DICOM header information\n",
    "    results_image = sitk.Elastix(fixed_image, moving_image_resampled, parameterMap)\n",
    "    results += [moving_image_resampled, fixed_image, results_image]"
   ]
  },
  {
   "cell_type": "code",
   "execution_count": 40,
   "id": "13f30d82-d18e-4c91-9f88-93cfe182d685",
   "metadata": {},
   "outputs": [],
   "source": [
    "segmentation, _ = nrrd.read(str(DATA_DIR / list(sample.label)[0]))\n",
    "segmentation[0] *= 2\n",
    "segmentation = segmentation.max(0)"
   ]
  },
  {
   "cell_type": "code",
   "execution_count": 41,
   "id": "4132c358-13d8-4569-915b-63751ccacbdb",
   "metadata": {},
   "outputs": [
    {
     "data": {
      "application/vnd.jupyter.widget-view+json": {
       "model_id": "d6860b36097647ea9188ef2c5cc0a2dc",
       "version_major": 2,
       "version_minor": 0
      },
      "text/plain": [
       "VBox(children=(HBox(children=(VBox(children=(Label(value=' ', layout=Layout(display='flex', justify_content='c…"
      ]
     },
     "metadata": {},
     "output_type": "display_data"
    }
   ],
   "source": [
    "ListViewer(\n",
    "    [sitk.GetArrayFromImage(im) for im in results],\n",
    "    [segmentation.transpose(2, 1, 0)] * len(results),\n",
    "    figsize=(3, 3),\n",
    ").show()"
   ]
  },
  {
   "cell_type": "markdown",
   "id": "d9e8859f-a46e-4e8d-932d-8a98848925f3",
   "metadata": {},
   "source": [
    "## Duplicate data\n",
    "\n",
    "Original data is immutable. As some files need to be changed, first duplicates are created. From now on, only the duplicated data is used. "
   ]
  },
  {
   "cell_type": "code",
   "execution_count": 42,
   "id": "93b59e8d-5a5b-4298-9f90-4e9bfe9d1c9f",
   "metadata": {},
   "outputs": [],
   "source": [
    "DATA_DIR2 = DATA_DIR.parent / \"processed\"\n",
    "if not DATA_DIR2.exists():\n",
    "    shutil.copytree(DATA_DIR, DATA_DIR2)"
   ]
  },
  {
   "cell_type": "markdown",
   "id": "a321a7f9-2280-4849-a672-a6c66065dd6e",
   "metadata": {},
   "source": [
    "### Correct segmentations for images and labels with unequal shape\n",
    "The shape of the fixed image and the label should be identical. \n",
    "However, this is not always the case. Reasons for this might include:\n",
    "\n",
    "    (A) Annotations performed with mutliple sequences in 3D Slicer.  \n",
    "    (B) Cropping by the `seg.nrrd` format.  \n",
    "    (C) Human errors.   \n",
    "    \n",
    "Spatial information should be perserved in the `seg.nrrd` file, so Resampling should work for these cases. \n",
    "As all sequences will be resampled to the fixed image, it also makes the most sense to resample the label to the fixed image and not vice versa. \n"
   ]
  },
  {
   "cell_type": "markdown",
   "id": "3bc0ad86-796e-470a-b228-2a68e484e58c",
   "metadata": {},
   "source": [
    "### Run Registration for all images"
   ]
  },
  {
   "cell_type": "code",
   "execution_count": 48,
   "id": "9bc33548",
   "metadata": {},
   "outputs": [],
   "source": [
    "DATA_DIR3 = DATA_DIR2.parent / \"resampled\"\n",
    "DATA_DIR3.mkdir(exist_ok=True)"
   ]
  },
  {
   "cell_type": "code",
   "execution_count": 49,
   "id": "61da72bf-29ad-4470-9d12-55a5b72f4eae",
   "metadata": {},
   "outputs": [
    {
     "name": "stderr",
     "output_type": "stream",
     "text": [
      "100%|███████████████████████████████████████████| 50/50 [19:08<00:00, 22.97s/it]\n"
     ]
    }
   ],
   "source": [
    "parameterMap = sitk.GetDefaultParameterMap(\"rigid\")\n",
    "\n",
    "for pat_id in tqdm(patients):\n",
    "    patient = df[df.patient_id == pat_id]\n",
    "    for exam in exam_types:\n",
    "        sequences = patient[patient.exam_type == exam]\n",
    "        if len(sequences) == 0:\n",
    "            continue\n",
    "        fixed = sequences.image[sequences.fixed_or_moving == \"fixed\"].item()\n",
    "        moving = sequences.image[sequences.fixed_or_moving == \"moving\"]\n",
    "        segmentation = Path(list(sequences.label)[0])\n",
    "\n",
    "        # resample and register images\n",
    "        fixed_image = sitk.ReadImage(str(DATA_DIR2 / fixed))\n",
    "        if not (DATA_DIR3 / fixed).parent.exists():\n",
    "            (DATA_DIR3 / fixed).parent.mkdir(parents=True)\n",
    "        sitk.WriteImage(fixed_image, str(DATA_DIR3 / fixed))\n",
    "\n",
    "        for m in moving:\n",
    "            if not (DATA_DIR3 / m).parent.exists():\n",
    "                (DATA_DIR3 / m).parent.mkdir(parents=True)\n",
    "\n",
    "            if (DATA_DIR3 / m).exists():\n",
    "                continue\n",
    "\n",
    "            moving_image = sitk.ReadImage(str(DATA_DIR2 / m))\n",
    "            # First simple Resampling with DICOM header information\n",
    "            moving_image_resampled = sitk.Resample(moving_image, fixed_image)\n",
    "            # Now use SimpleElastix for final adjustment\n",
    "            results_image = sitk.Elastix(fixed_image, moving_image_resampled, \"rigid\")\n",
    "            assert results_image.GetSize() == fixed_image.GetSize(), \"Size mismatch\"\n",
    "            sitk.WriteImage(results_image, str(DATA_DIR3 / m))"
   ]
  },
  {
   "cell_type": "markdown",
   "id": "942b28c2-d47e-4975-9ff9-b3740d1189ad",
   "metadata": {},
   "source": [
    "In a next step the images are resampled to isotrophic voxel sizes of 1 x 1 x 1 mm and a uniform orientation. "
   ]
  },
  {
   "cell_type": "markdown",
   "id": "4b1a89fb-255b-48e1-8a04-6dfe5b1c0e2b",
   "metadata": {},
   "source": [
    "## Convert Segmentations\n",
    "\n",
    "The segmentations have two channels, one containing bone and tumor, one just tumor. These will be combined to make handling the files easier. Also the affine matrix has to be adapted. The affine matrix in the seg.nrrd files has dimension (4,3), because the file has two channels. \n",
    "However, the first row is `nan`. This leads to problems when reading the file with monais `NrrdReader`, during LPS to RAS conversion. \n",
    "The easiest solution is to remove the first row in the affine matrix, making it shape (3,3). "
   ]
  },
  {
   "cell_type": "code",
   "execution_count": 50,
   "id": "27584716-5cf4-4635-ad9a-13f657e5b783",
   "metadata": {},
   "outputs": [
    {
     "name": "stderr",
     "output_type": "stream",
     "text": [
      "100%|█████████████████████████████████████████| 114/114 [01:50<00:00,  1.03it/s]\n"
     ]
    }
   ],
   "source": [
    "for fn in tqdm(df.label.unique()):\n",
    "    label, header = nrrd.read(str(DATA_DIR2 / fn))\n",
    "    if label.shape[0] == 2:\n",
    "        label[0] *= 2\n",
    "        label = label.max(0)\n",
    "    if header[\"space directions\"].shape == (4, 3):\n",
    "        header[\"sizes\"] = header[\"sizes\"][1:]\n",
    "        header[\"kinds\"] = header[\"kinds\"][1:]\n",
    "        header[\"space directions\"] = header[\"space directions\"][1:]\n",
    "        header[\"dimension\"] = 3\n",
    "    nrrd.write(str(DATA_DIR3 / fn), label, header)"
   ]
  },
  {
   "cell_type": "code",
   "execution_count": 51,
   "id": "6792707c",
   "metadata": {},
   "outputs": [],
   "source": [
    "df.to_csv(DATA_DIR3 / \"osteosarcoma.csv\", index=False)"
   ]
  },
  {
   "cell_type": "code",
   "execution_count": null,
   "id": "cec2dab0-e86a-40ab-bd73-7d54ddeaef3e",
   "metadata": {},
   "outputs": [],
   "source": []
  }
 ],
 "metadata": {
  "kernelspec": {
   "display_name": "Python 3 (ipykernel)",
   "language": "python",
   "name": "python3"
  },
  "language_info": {
   "codemirror_mode": {
    "name": "ipython",
    "version": 3
   },
   "file_extension": ".py",
   "mimetype": "text/x-python",
   "name": "python",
   "nbconvert_exporter": "python",
   "pygments_lexer": "ipython3",
   "version": "3.9.12"
  },
  "vscode": {
   "interpreter": {
    "hash": "61d67c5a887374fe4528bc1bcc3d29c8726e2993ddef9e70ac79ae4bf310a5c5"
   }
  }
 },
 "nbformat": 4,
 "nbformat_minor": 5
}
