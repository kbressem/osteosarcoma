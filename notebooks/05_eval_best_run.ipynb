{
 "cells": [
  {
   "cell_type": "code",
   "execution_count": 1,
   "id": "4bdda013-12ff-4824-a779-9cdd29390938",
   "metadata": {},
   "outputs": [],
   "source": [
    "from trainlib.trainer import SegmentationTrainer\n",
    "from trainlib.utils import load_config\n",
    "from trainlib.report import ReportGenerator\n",
    "from trainlib.data import segmentation_dataloaders\n",
    "import pandas as pd\n",
    "from trainlib.viewer import BasicViewer\n",
    "from monai.transforms import (\n",
    "    KeepLargestConnectedComponentd,\n",
    "    Compose,\n",
    "    AsDiscreted,\n",
    "    SqueezeDimd,\n",
    "    SaveImaged,\n",
    "    Lambdad,\n",
    ")\n",
    "from pathlib import Path"
   ]
  },
  {
   "cell_type": "code",
   "execution_count": null,
   "id": "379e4f34-f328-4d47-b603-e887b5d2c6c6",
   "metadata": {},
   "outputs": [],
   "source": [
    "config = load_config(\"../configs/bianry-best.yaml\")\n",
    "config.data.data_dir = config.data.data_dir.parent / \"test\"\n",
    "ckpt = \"models/model.pt\""
   ]
  },
  {
   "cell_type": "code",
   "execution_count": null,
   "id": "d691f1a3-c930-4e25-8b39-64201e310a74",
   "metadata": {},
   "outputs": [],
   "source": [
    "test_dl = segmentation_dataloaders(config, train=False, valid=False, test=True)\n",
    "test_df = pd.read_csv(config.data.test_csv)"
   ]
  },
  {
   "cell_type": "code",
   "execution_count": null,
   "id": "80b2a963-ccf7-4952-a0b8-9ef56aa54fa5",
   "metadata": {},
   "outputs": [],
   "source": [
    "trainer = SegmentationTrainer(\n",
    "    progress_bar=True,\n",
    "    early_stopping=True,\n",
    "    metrics=[\"MeanDice\", \"HausdorffDistance\", \"SurfaceDistance\"],\n",
    "    save_latest_metrics=True,\n",
    "    config=config,\n",
    ")"
   ]
  },
  {
   "cell_type": "code",
   "execution_count": null,
   "id": "fc134913-9c25-4fbc-ab9a-c46b19337ed7",
   "metadata": {},
   "outputs": [],
   "source": [
    "def squeeze_affine(x):\n",
    "    x.meta[\"affine\"] = x.meta[\"affine\"].squeeze()\n",
    "    return x"
   ]
  },
  {
   "cell_type": "code",
   "execution_count": null,
   "id": "7a122fd8-f452-4a79-981f-60fb6021bbeb",
   "metadata": {},
   "outputs": [],
   "source": [
    "postprocessing = Compose(\n",
    "    [\n",
    "        SqueezeDimd(keys=[\"pred\", \"image\"]),\n",
    "        AsDiscreted(keys=\"pred\", argmax=True),\n",
    "        KeepLargestConnectedComponentd(\n",
    "            keys=\"pred\", applied_labels=1, is_onehot=False, num_components=1\n",
    "        ),\n",
    "        Lambdad(keys=[\"pred\", \"image\"], func=squeeze_affine),\n",
    "    ]\n",
    ")"
   ]
  },
  {
   "cell_type": "code",
   "execution_count": null,
   "id": "fc0b7262-70b8-47af-9a83-e9c9c85a0fcd",
   "metadata": {},
   "outputs": [],
   "source": [
    "def save_prediction(data_dict):\n",
    "    output_dir = str(Path(data_dict[\"pred\"].meta[\"filename_or_obj\"][0]).parent)\n",
    "    output_dir = output_dir.replace(\"/resampled/\", \"/test/\")\n",
    "\n",
    "    writer = SaveImaged(\n",
    "        output_dir=output_dir,\n",
    "        keys=\"pred\",\n",
    "        output_postfix=\"pred\",\n",
    "        separate_folder=False,\n",
    "        resample=False,\n",
    "    )\n",
    "    writer(data_dict)\n",
    "\n",
    "    writer = SaveImaged(\n",
    "        output_dir=output_dir,\n",
    "        keys=\"image\",\n",
    "        output_postfix=\"image\",\n",
    "        separate_folder=False,\n",
    "        resample=False,\n",
    "    )\n",
    "    writer(data_dict)"
   ]
  },
  {
   "cell_type": "code",
   "execution_count": null,
   "id": "a083f6a3-9f35-40bb-93e6-2b097c2e36b5",
   "metadata": {},
   "outputs": [],
   "source": [
    "from tqdm import tqdm\n",
    "import SimpleITK as sitk"
   ]
  },
  {
   "cell_type": "code",
   "execution_count": null,
   "id": "5a58b62c-e871-4598-bcf4-9bb5473166a8",
   "metadata": {},
   "outputs": [],
   "source": [
    "for fn in tqdm(test_df.image):\n",
    "    pred = trainer.predict(\n",
    "        file=str(config.data.data_dir / fn), checkpoint=ckpt, roi_size=config.input_size\n",
    "    )\n",
    "    processed = postprocessing(pred)\n",
    "    save_prediction(processed)"
   ]
  },
  {
   "cell_type": "code",
   "execution_count": null,
   "id": "ab45846f-37de-42b5-9fdc-05b3404a247a",
   "metadata": {},
   "outputs": [],
   "source": [
    "BasicViewer(\n",
    "    processed[\"image\"].transpose(-1, -3), processed[\"pred\"].transpose(-1, -3), figsize=(6, 6)\n",
    ").show()"
   ]
  }
 ],
 "metadata": {
  "kernelspec": {
   "display_name": "monai",
   "language": "python",
   "name": "python3"
  },
  "language_info": {
   "codemirror_mode": {
    "name": "ipython",
    "version": 3
   },
   "file_extension": ".py",
   "mimetype": "text/x-python",
   "name": "python",
   "nbconvert_exporter": "python",
   "pygments_lexer": "ipython3",
   "version": "3.9.15"
  },
  "vscode": {
   "interpreter": {
    "hash": "466f164a51d580945dbfaaa6c6a1af9ac1c9cd44922bdb2171199a22d655a4a2"
   }
  }
 },
 "nbformat": 4,
 "nbformat_minor": 5
}
