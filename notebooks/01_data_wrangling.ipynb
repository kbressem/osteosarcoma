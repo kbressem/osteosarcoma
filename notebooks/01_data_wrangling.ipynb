{
 "cells": [
  {
   "cell_type": "markdown",
   "id": "5618a569-73fb-4ec3-94ac-0f35a25c2bfb",
   "metadata": {},
   "source": [
    "# Osteosacroma - Data Wrangling\n",
    "\n",
    "The dataset consists of MRI images of children with bone tumors (osteosarcoma). The MRIs vary in number and type of sequences. Furthermore, there is sometimes considerable movement inbetween sequences, necessitating multiple transforms. "
   ]
  },
  {
   "cell_type": "code",
   "execution_count": 1,
   "id": "6889bc61-17f4-4f1d-ab49-3a8e40923114",
   "metadata": {},
   "outputs": [],
   "source": [
    "from pathlib import Path\n",
    "import re\n",
    "import shutil\n",
    "\n",
    "import pandas as pd"
   ]
  },
  {
   "cell_type": "code",
   "execution_count": 2,
   "id": "2d559e37-3e34-4f0a-b8f5-e6db62acb2e0",
   "metadata": {},
   "outputs": [],
   "source": [
    "DATA_DIR = Path(\"/workspace/data\")"
   ]
  },
  {
   "cell_type": "code",
   "execution_count": 3,
   "id": "b445e17f-22f8-4095-bcf5-bc8c3cc32d58",
   "metadata": {},
   "outputs": [],
   "source": [
    "files = sorted(list(DATA_DIR.glob(\"**/*nrrd\")))"
   ]
  },
  {
   "cell_type": "code",
   "execution_count": 4,
   "id": "51c70932",
   "metadata": {},
   "outputs": [],
   "source": [
    "assert len(files) > 0, \"Empty set. Check filepaths\""
   ]
  },
  {
   "cell_type": "code",
   "execution_count": 5,
   "id": "fc9c78fb-f2c0-4712-aed5-ee74bd423c18",
   "metadata": {},
   "outputs": [
    {
     "data": {
      "text/plain": [
       "{'AxADC',\n",
       " 'AxDWI',\n",
       " 'AxT1',\n",
       " 'AxT1fs',\n",
       " 'AxT2',\n",
       " 'AxT2fs',\n",
       " 'CorT1',\n",
       " 'PostAxT1fs',\n",
       " 'PreAxT1',\n",
       " 'PreAxT1fs',\n",
       " 'SagT1',\n",
       " 'Segmentation_1',\n",
       " 'Segmentation_2',\n",
       " 'Segmentation_29',\n",
       " 'Segmentation_3'}"
      ]
     },
     "execution_count": 5,
     "metadata": {},
     "output_type": "execute_result"
    }
   ],
   "source": [
    "sequences = set()\n",
    "for f in files:\n",
    "    sequences.add(re.sub(\"\\\\..*\", \"\", f.name))\n",
    "sequences"
   ]
  },
  {
   "cell_type": "markdown",
   "id": "e1030019-3eff-4310-92ad-a427d8714e19",
   "metadata": {},
   "source": [
    "#### Explanation to image names\n",
    "\n",
    "- **AxADC** axial Apparent Diffusion Coefficient Maps\n",
    "- **axDWI** axial Diffusion Weighted Imaging \n",
    "- **AxT1:** axial T1 without fat saturation\n",
    "- **AxT2fs:** axial T2 without fat saturation\n",
    "- **CorT1:** coronal T1 without fat saturation. Only if no other T1w sequence was available\n",
    "- **SagT1:** sagittal T1 without fat saturation. Only if no other T1w sequence was available\n",
    "- **PostAxT1fs:** axial T1 with fat saturation after contrast injection\n",
    "- **PreAxT1fs:** axial T1 with fat saturation before contrast injection\n",
    "\n",
    "\n",
    "#### Explanation to segmentation names.  \n",
    "Sometines the patient moved between the pre- and post-contrast images. So the images are not aligned anymore and new segmentatios had to be done. \n",
    "\n",
    "- **Segmentation_1:** segmentations for pre-contrast images, if significant movement happend between pre- and post contrast sequences\n",
    "- **Segmentation_3:** segmentations for pre-contrast images, if significant movement happend between pre- and post contrast sequences\n",
    "- **Segmenetatin_2:** segmentation viable for all sequences in the examination\n",
    "\n",
    "\n",
    "\n"
   ]
  },
  {
   "cell_type": "markdown",
   "id": "dc23796b-0733-44f0-8415-87e2c3d374fb",
   "metadata": {},
   "source": [
    "## Filenames to DataFrame\n",
    "For compatibility with `trainlib`, file names need to be in csv format. For now, sequences are regarded as independed, even if from the same examination. Later in the project, one can implement a solution to merge multiple sequences. \n",
    "\n",
    "There is a hirachical structure to the sequences. \n",
    "\n",
    "```bash\n",
    "patient_id # patient id\n",
    "  |--exam_type # mostly two types: baseline or follow-up. However, can also be more than two\n",
    "       |       # if significant movement happend inbetween sequences. \n",
    "       |--sequence_1 # first MRI sequence, e.g. T1 axial\n",
    "       |--sequence_2\n",
    "       |\n",
    "       |--sequence_n\n",
    "       |--segmentation # pixel-wise segmentation of the tumor\n",
    "\n",
    "```"
   ]
  },
  {
   "cell_type": "markdown",
   "id": "f26a67d1-77da-4c91-a595-be6b46ff1599",
   "metadata": {},
   "source": [
    "### Manual fixes\n",
    "> corrections befor creating the dataframe\n",
    "\n",
    "There are some minor errors in the data, which need to be corrected manually, . \n",
    "\n",
    "- rename file `AxT1nrrd` -> `AxT1.nrrd`"
   ]
  },
  {
   "cell_type": "code",
   "execution_count": 7,
   "id": "a29a8be9-dda5-45b1-88e5-c94814e8f01b",
   "metadata": {},
   "outputs": [],
   "source": [
    "patient_ids = set([f.parent.parent.name for f in files])\n",
    "df = {\"patient_id\": [], \"image\": [], \"label\": [], \"follow_up\": [], \"exam_type\": []}\n",
    "for idx in patient_ids:\n",
    "    exams = [f for f in files if idx in str(f)]\n",
    "    exam_types = set([e.parent.name.replace(idx, \"\").replace(\"_\", \"\", 1) for e in exams])\n",
    "    for exam_type in exam_types:\n",
    "        exams_to_keep = [e for e in exams if exam_type in str(e)]\n",
    "        images = []\n",
    "        for exam in exams_to_keep:\n",
    "            if exam.name.endswith(\".seg.nrrd\"):\n",
    "                label = exam\n",
    "            else:\n",
    "                images.append(exam)\n",
    "\n",
    "        df[\"patient_id\"] += [idx] * len(images)\n",
    "        df[\"image\"] += images\n",
    "        df[\"label\"] += [label] * len(images)\n",
    "        df[\"follow_up\"] += [\"Follow\" in str(i) for i in images]\n",
    "        df[\"exam_type\"] += [exam_type] * len(images)"
   ]
  },
  {
   "cell_type": "code",
   "execution_count": 8,
   "id": "cdaecbd4-c2df-4060-b365-b8312bdda8b7",
   "metadata": {},
   "outputs": [],
   "source": [
    "df[\"image\"] = [str(fn).replace(str(DATA_DIR) + \"/\", \"\") for fn in df[\"image\"]]\n",
    "df[\"label\"] = [str(fn).replace(str(DATA_DIR) + \"/\", \"\") for fn in df[\"label\"]]"
   ]
  },
  {
   "cell_type": "code",
   "execution_count": 9,
   "id": "4f0237f7-97e2-4d7e-b8de-fe7719530128",
   "metadata": {},
   "outputs": [],
   "source": [
    "df = pd.DataFrame(df)"
   ]
  }
 ],
 "metadata": {
  "kernelspec": {
   "display_name": "monai",
   "language": "python",
   "name": "python3"
  },
  "language_info": {
   "codemirror_mode": {
    "name": "ipython",
    "version": 3
   },
   "file_extension": ".py",
   "mimetype": "text/x-python",
   "name": "python",
   "nbconvert_exporter": "python",
   "pygments_lexer": "ipython3",
   "version": "3.9.15 (main, Nov  4 2022, 11:11:31) \n[Clang 12.0.0 ]"
  },
  "vscode": {
   "interpreter": {
    "hash": "466f164a51d580945dbfaaa6c6a1af9ac1c9cd44922bdb2171199a22d655a4a2"
   }
  }
 },
 "nbformat": 4,
 "nbformat_minor": 5
}
