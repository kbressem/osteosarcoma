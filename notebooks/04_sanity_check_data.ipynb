{
 "cells": [
  {
   "cell_type": "code",
   "execution_count": 1,
   "id": "37576399-1caf-42a4-894d-9e7ff03d5227",
   "metadata": {},
   "outputs": [],
   "source": [
    "from trainlib.utils import load_config\n",
    "from trainlib.trainer import SegmentationTrainer\n",
    "from tqdm import tqdm\n",
    "import pandas as pd\n",
    "import SimpleITK as sitk\n",
    "import numpy as np"
   ]
  },
  {
   "cell_type": "code",
   "execution_count": 2,
   "id": "581e0bd0-8ca7-4d45-833b-ed0aedd8d45a",
   "metadata": {},
   "outputs": [
    {
     "name": "stderr",
     "output_type": "stream",
     "text": [
      "Setuptools is replacing distutils.\n"
     ]
    },
    {
     "name": "stdout",
     "output_type": "stream",
     "text": [
      "2022-11-03 14:50:46,187 - importing patch `AdaptAffineMatrixd` from `/home/bressekk/Documents/bone-tumor/patch/transforms.py`.\n",
      "2022-11-03 14:50:46,188 - importing patch `RaiseOnEmptyd` from `/home/bressekk/Documents/bone-tumor/patch/transforms.py`.\n",
      "2022-11-03 14:50:46,191 - importing patch `AdaptAffineMatrixd` from `/home/bressekk/Documents/bone-tumor/patch/transforms.py`.\n",
      "2022-11-03 14:50:46,191 - importing patch `RaiseOnEmptyd` from `/home/bressekk/Documents/bone-tumor/patch/transforms.py`.\n",
      "2022-11-03 14:50:46,328 - No pushover credentials file submitted, will not try to push trainings progress to pushover device. If you want to receive status updated via pushover, provide the path to a yaml file, containing the `app_token`, `user_key` and `proxies` (optional) in the config at `pushover_credentials`\n"
     ]
    }
   ],
   "source": [
    "config = load_config(\"../configs/binary.yaml\")\n",
    "trainer = SegmentationTrainer(config=config)\n",
    "train_df = pd.read_csv(config.data.train_csv)\n",
    "valid_df = pd.read_csv(config.data.valid_csv)\n",
    "train_tfms = trainer.data_loader.dataset.transform\n",
    "valid_tfms = trainer.evaluator.data_loader.dataset.transform"
   ]
  },
  {
   "cell_type": "code",
   "execution_count": 5,
   "id": "c511e0c2-1a43-4033-847c-0375d2d3ff14",
   "metadata": {},
   "outputs": [],
   "source": [
    "dl = trainer.data_loader"
   ]
  },
  {
   "cell_type": "code",
   "execution_count": 18,
   "id": "d36461ac-7849-4c8b-9d27-fcef13556a7b",
   "metadata": {},
   "outputs": [
    {
     "name": "stderr",
     "output_type": "stream",
     "text": [
      "100%|█████████████████████████████████████████| 296/296 [02:26<00:00,  2.01it/s]"
     ]
    },
    {
     "name": "stdout",
     "output_type": "stream",
     "text": [
      "Frequency of label values:\n",
      "value 0.0 appears in 2368 items in the dataset\n",
      "value 1.0 appears in 1856 items in the dataset\n",
      "value 2.0 appears in 1814 items in the dataset\n"
     ]
    },
    {
     "name": "stderr",
     "output_type": "stream",
     "text": [
      "\n"
     ]
    }
   ],
   "source": [
    "dl.sanity_check()"
   ]
  },
  {
   "cell_type": "code",
   "execution_count": 17,
   "id": "48778d83-bed4-42ec-9983-302fc253651a",
   "metadata": {},
   "outputs": [
    {
     "name": "stderr",
     "output_type": "stream",
     "text": [
      "100%|█████████████████████████████████████████| 296/296 [01:01<00:00,  4.78it/s]\n"
     ]
    }
   ],
   "source": []
  },
  {
   "cell_type": "code",
   "execution_count": null,
   "id": "4dcfccca-fcc5-4989-9f03-c807fa1fe1eb",
   "metadata": {},
   "outputs": [],
   "source": []
  }
 ],
 "metadata": {
  "kernelspec": {
   "display_name": "Python 3 (ipykernel)",
   "language": "python",
   "name": "python3"
  },
  "language_info": {
   "codemirror_mode": {
    "name": "ipython",
    "version": 3
   },
   "file_extension": ".py",
   "mimetype": "text/x-python",
   "name": "python",
   "nbconvert_exporter": "python",
   "pygments_lexer": "ipython3",
   "version": "3.9.12"
  }
 },
 "nbformat": 4,
 "nbformat_minor": 5
}
